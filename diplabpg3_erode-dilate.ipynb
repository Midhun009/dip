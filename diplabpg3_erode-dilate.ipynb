{
 "cells": [
  {
   "cell_type": "code",
   "execution_count": null,
   "id": "2d724082",
   "metadata": {},
   "outputs": [],
   "source": [
    "# Python program to demonstrate erosion and\n",
    "# dilation of images.\n",
    "import cv2 as cv\n",
    "import numpy as np\n",
    "\n",
    "# Reading the input image\n",
    "#img = cv.imread('/home/user/Pictures/daya_DIP_lab/chery-200x141.png')\n",
    "#img = cv.imread('/home/user/Pictures/daya_DIP_lab/img_erode_dilate.png')\n",
    "img = cv.imread('/home/user/Pictures/daya_DIP_lab/cat.jpg')\n",
    "# Taking a matrix of size 5 as the kernel\n",
    "kernel = np.ones((5, 5), np.uint8)\n",
    "\n",
    "# The first parameter is the original image,\n",
    "# kernel is the matrix with which image is\n",
    "# convolved and third parameter is the number\n",
    "# of iterations, which will determine how much\n",
    "# you want to erode/dilate a given image.\n",
    "img_erosion = cv.erode(img, kernel, iterations=1)\n",
    "img_dilation = cv.dilate(img, kernel, iterations=1)\n",
    "img_diff_erosion=img-img_erosion\n",
    "img_diff_dilation=img-img_dilation\n",
    "cv.imshow('Input', img)\n",
    "cv.imshow('Erosion', img_erosion)\n",
    "cv.imshow('Dilation', img_dilation)\n",
    "cv.imshow('difference image after erosion',img_diff_erosion)\n",
    "cv.imshow('difference image after dilation',img_diff_dilation)\n",
    "cv.waitKey(0)\n"
   ]
  },
  {
   "cell_type": "code",
   "execution_count": null,
   "id": "d6a03261",
   "metadata": {},
   "outputs": [],
   "source": []
  }
 ],
 "metadata": {
  "kernelspec": {
   "display_name": "Python 3 (ipykernel)",
   "language": "python",
   "name": "python3"
  },
  "language_info": {
   "codemirror_mode": {
    "name": "ipython",
    "version": 3
   },
   "file_extension": ".py",
   "mimetype": "text/x-python",
   "name": "python",
   "nbconvert_exporter": "python",
   "pygments_lexer": "ipython3",
   "version": "3.9.7"
  }
 },
 "nbformat": 4,
 "nbformat_minor": 5
}
