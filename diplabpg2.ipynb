{
 "cells": [
  {
   "cell_type": "code",
   "execution_count": null,
   "metadata": {},
   "outputs": [],
   "source": [
    "import numpy as np\n",
    "import cv2 as cv\n",
    "img = cv.imread('/home/user/Pictures/daya_DIP_lab/lena.jpeg')\n",
    "assert img is not None, \"file could not be read, check with os.path.exists()\"\n",
    "cv.imshow('original imaage',img)\n",
    "\n",
    "# IMAGE SCALING\n",
    "# to resize the image 3 times \n",
    "res = cv.resize(img,None,fx=3, fy=3, interpolation = cv.INTER_CUBIC)\n",
    "#OR\n",
    "#height, width = img.shape[:2]\n",
    "#res = cv.resize(img,(3*width, 3*height), interpolation = cv.INTER_CUBIC)\n",
    "\n",
    "res1 = cv.resize(img,None,fx=3, fy=3, interpolation = cv.INTER_NEAREST)\n",
    "cv.imshow('resize image using intercubic interpolation',res)\n",
    "cv.imshow('resize image using nearest neighbour interpolation',res1)\n",
    "cv.waitKey(0)"
   ]
  },
  {
   "cell_type": "code",
   "execution_count": null,
   "metadata": {},
   "outputs": [],
   "source": [
    "#IMAGE TRANSLATION\n",
    "#Translation is the shifting of an object's location.\n",
    "#If you know the shift in the (x,y) direction and let it be (tx,ty),\n",
    "# you can create the transformation matrix M as follows:\n",
    "\n",
    "#M=[1 0  tx\n",
    "#  0 1 ty]\n",
    "#You can take make it into a Numpy array of type np.float32 \n",
    "#and pass it into the cv.warpAffine() function.  for a shift of (25,25)\n",
    "\n",
    "\n",
    "import numpy as np\n",
    "import cv2 as cv\n",
    "img = cv.imread('/home/user/Pictures/daya_DIP_lab/lena.jpeg',cv.IMREAD_GRAYSCALE)\n",
    "assert img is not None, \"file could not be read, check with os.path.exists()\"\n",
    "rows,cols = img.shape\n",
    "M = np.float32([[1,0,25],[0,1,25]])\n",
    "dst = cv.warpAffine(img,M,(cols,rows))\n",
    "cv.imshow('Image translation to 25,25',dst)\n",
    "cv.waitKey(0)"
   ]
  },
  {
   "cell_type": "code",
   "execution_count": null,
   "metadata": {},
   "outputs": [],
   "source": [
    "#OpenCV provides a function, cv.getRotationMatrix2D. rotate the image by 90 degree\n",
    "# with respect to center without any scaling.\n",
    "import numpy as np\n",
    "import cv2 as cv\n",
    "img = cv.imread('/home/user/Pictures/daya_DIP_lab/lena.jpeg', cv.IMREAD_GRAYSCALE)\n",
    "assert img is not None, \"file could not be read, check with os.path.exists()\"\n",
    "rows,cols = img.shape\n",
    "# cols-1 and rows-1 are the coordinate limits.\n",
    "M = cv.getRotationMatrix2D(((cols-1)/2.0,(rows-1)/2.0),90,1)\n",
    "dst = cv.warpAffine(img,M,(cols,rows))\n",
    "cv.imshow('Image rotaion by 90 deg',dst)\n",
    "cv.waitKey(0)"
   ]
  },
  {
   "cell_type": "code",
   "execution_count": null,
   "metadata": {},
   "outputs": [],
   "source": []
  }
 ],
 "metadata": {
  "kernelspec": {
   "display_name": "Python 3 (ipykernel)",
   "language": "python",
   "name": "python3"
  },
  "language_info": {
   "codemirror_mode": {
    "name": "ipython",
    "version": 3
   },
   "file_extension": ".py",
   "mimetype": "text/x-python",
   "name": "python",
   "nbconvert_exporter": "python",
   "pygments_lexer": "ipython3",
   "version": "3.9.7"
  }
 },
 "nbformat": 4,
 "nbformat_minor": 2
}
